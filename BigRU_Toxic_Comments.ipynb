{
  "nbformat": 4,
  "nbformat_minor": 0,
  "metadata": {
    "colab": {
      "name": "BigRU_Toxic_Comments.ipynb",
      "provenance": [],
      "machine_shape": "hm",
      "mount_file_id": "18sStfPYONIWquMVgQo9qFoy3tLpAvS2V",
      "authorship_tag": "ABX9TyOTns2bX5UhAXIoXAoB14Jl",
      "include_colab_link": true
    },
    "kernelspec": {
      "display_name": "Python 3",
      "name": "python3"
    },
    "language_info": {
      "name": "python"
    }
  },
  "cells": [
    {
      "cell_type": "markdown",
      "metadata": {
        "id": "view-in-github",
        "colab_type": "text"
      },
      "source": [
        "<a href=\"https://colab.research.google.com/github/am4279/Toxic_Comments_Kaggle_Competition/blob/main/BigRU_Toxic_Comments.ipynb\" target=\"_parent\"><img src=\"https://colab.research.google.com/assets/colab-badge.svg\" alt=\"Open In Colab\"/></a>"
      ]
    },
    {
      "cell_type": "code",
      "metadata": {
        "colab": {
          "base_uri": "https://localhost:8080/"
        },
        "id": "ReEt2-UGvorw",
        "outputId": "a0f27053-9c51-4a8b-fc4a-55d717f658ab"
      },
      "source": [
        "from google.colab import drive\n",
        "drive.mount('/content/drive')\n"
      ],
      "execution_count": null,
      "outputs": [
        {
          "name": "stdout",
          "output_type": "stream",
          "text": [
            "Mounted at /content/drive\n"
          ]
        }
      ]
    },
    {
      "cell_type": "code",
      "metadata": {
        "colab": {
          "base_uri": "https://localhost:8080/"
        },
        "id": "0EtfOWlLVjd2",
        "outputId": "a89554d6-5b78-4cbb-cb39-d414c5de5927"
      },
      "source": [
        "!python --version"
      ],
      "execution_count": null,
      "outputs": [
        {
          "name": "stdout",
          "output_type": "stream",
          "text": [
            "Python 3.7.11\n"
          ]
        }
      ]
    },
    {
      "cell_type": "code",
      "metadata": {
        "id": "NDKsE__uVvsQ"
      },
      "source": [
        "#!pip install ktrain"
      ],
      "execution_count": 43,
      "outputs": []
    },
    {
      "cell_type": "code",
      "metadata": {
        "colab": {
          "base_uri": "https://localhost:8080/"
        },
        "id": "KMlSZ8_Pi-YQ",
        "outputId": "d4c96529-d6d9-40d1-dd1a-d5e424b2a43b"
      },
      "source": [
        "# from google.colab import drive\n",
        "# drive.mount('/content/drive')"
      ],
      "execution_count": null,
      "outputs": [
        {
          "name": "stdout",
          "output_type": "stream",
          "text": [
            "Drive already mounted at /content/drive; to attempt to forcibly remount, call drive.mount(\"/content/drive\", force_remount=True).\n"
          ]
        }
      ]
    },
    {
      "cell_type": "code",
      "metadata": {
        "colab": {
          "base_uri": "https://localhost:8080/"
        },
        "id": "rCxgZt1iVmfE",
        "outputId": "7971510c-bae8-4bf4-dd0e-98a2cfa73c5e"
      },
      "source": [
        "import ktrain\n",
        "from ktrain import text\n",
        "\n",
        "\n",
        "#DATA_PATH = '/Users/andrewmccurdy/Dropbox/University of Chicago/Summer_2021/Adv_AI/jigsaw-toxic-comment-classification-challenge/train.csv'\n",
        "\n",
        "DATA_PATH = '/content/drive/MyDrive/toxic_train.csv'\n",
        "NUM_WORDS = 50000\n",
        "MAXLEN = 150\n",
        "(x_train, y_train), (x_test, y_test), preproc = text.texts_from_csv(DATA_PATH, 'comment_text',\n",
        "                      label_columns = [\"toxic\", \"severe_toxic\", \"obscene\", \"threat\", \"insult\", \"identity_hate\"],\n",
        "                      val_filepath=None, # if None, 10% of data will be used for validation\n",
        "                      max_features=NUM_WORDS, maxlen=MAXLEN, ngram_range=1)"
      ],
      "execution_count": null,
      "outputs": [
        {
          "name": "stdout",
          "output_type": "stream",
          "text": [
            "detected encoding: utf-8 (if wrong, set manually)\n",
            "['toxic', 'severe_toxic', 'obscene', 'threat', 'insult', 'identity_hate']\n",
            "       toxic  severe_toxic  obscene  threat  insult  identity_hate\n",
            "71522      0             0        0       0       0              0\n",
            "95665      0             0        0       0       0              0\n",
            "20755      0             0        0       0       0              0\n",
            "62094      0             0        0       0       0              0\n",
            "80238      0             0        0       0       0              0\n",
            "['toxic', 'severe_toxic', 'obscene', 'threat', 'insult', 'identity_hate']\n",
            "        toxic  severe_toxic  obscene  threat  insult  identity_hate\n",
            "133734      0             0        0       0       0              0\n",
            "126488      0             0        0       0       0              0\n",
            "102966      0             0        0       0       0              0\n",
            "137741      1             0        1       0       1              0\n",
            "123615      0             0        0       0       0              0\n",
            "language: en\n",
            "Word Counts: 197244\n",
            "Nrows: 143613\n",
            "143613 train sequences\n",
            "train sequence lengths:\n",
            "\tmean : 67\n",
            "\t95percentile : 228\n",
            "\t99percentile : 569\n",
            "x_train shape: (143613,150)\n",
            "y_train shape: (143613, 6)\n",
            "Is Multi-Label? True\n",
            "15958 test sequences\n",
            "test sequence lengths:\n",
            "\tmean : 66\n",
            "\t95percentile : 227\n",
            "\t99percentile : 552\n",
            "x_test shape: (15958,150)\n",
            "y_test shape: (15958, 6)\n"
          ]
        }
      ]
    },
    {
      "cell_type": "code",
      "metadata": {
        "colab": {
          "base_uri": "https://localhost:8080/"
        },
        "id": "fsXofFCQWMdy",
        "outputId": "09efa27f-b2bf-4ef4-ba99-b09fcb34a7af"
      },
      "source": [
        "text.print_text_classifiers()\n"
      ],
      "execution_count": null,
      "outputs": [
        {
          "name": "stdout",
          "output_type": "stream",
          "text": [
            "fasttext: a fastText-like model [http://arxiv.org/pdf/1607.01759.pdf]\n",
            "logreg: logistic regression using a trainable Embedding layer\n",
            "nbsvm: NBSVM model [http://www.aclweb.org/anthology/P12-2018]\n",
            "bigru: Bidirectional GRU with pretrained fasttext word vectors [https://fasttext.cc/docs/en/crawl-vectors.html]\n",
            "standard_gru: simple 2-layer GRU with randomly initialized embeddings\n",
            "bert: Bidirectional Encoder Representations from Transformers (BERT) from keras_bert [https://arxiv.org/abs/1810.04805]\n",
            "distilbert: distilled, smaller, and faster BERT from Hugging Face transformers [https://arxiv.org/abs/1910.01108]\n"
          ]
        }
      ]
    },
    {
      "cell_type": "code",
      "metadata": {
        "colab": {
          "base_uri": "https://localhost:8080/",
          "height": 269
        },
        "id": "aVV3MwJdXWUP",
        "outputId": "8e37db64-816d-446a-f639-8a2ae81055aa"
      },
      "source": [
        "model = text.text_classifier('bigru', (x_train, y_train), preproc=preproc)\n",
        "\n",
        "learner = ktrain.get_learner(model, train_data=(x_train, y_train), val_data=(x_test, y_test))"
      ],
      "execution_count": null,
      "outputs": [
        {
          "name": "stdout",
          "output_type": "stream",
          "text": [
            "Is Multi-Label? True\n",
            "compiling word ID features...\n",
            "maxlen is 150\n",
            "word vectors will be loaded from: https://dl.fbaipublicfiles.com/fasttext/vectors-crawl/cc.en.300.vec.gz\n",
            "processing pretrained word vectors...\n",
            "downloading pretrained word vectors to /root/ktrain_data ...\n",
            "[██████████████████████████████████████████████████]\n",
            "extracting pretrained word vectors...\n",
            "done.\n",
            "\n",
            "cleanup downloaded zip...\n",
            "done.\n",
            "\n",
            "loading pretrained word vectors...this may take a few moments...\n"
          ]
        },
        {
          "data": {
            "text/html": [
              ""
            ],
            "text/plain": [
              "<IPython.core.display.HTML object>"
            ]
          },
          "metadata": {},
          "output_type": "display_data"
        },
        {
          "name": "stdout",
          "output_type": "stream",
          "text": [
            "done.\n"
          ]
        }
      ]
    },
    {
      "cell_type": "code",
      "metadata": {
        "id": "gd91YiMwXZu2"
      },
      "source": [
        "# learner.lr_find()\n",
        "# learner.lr_plot()"
      ],
      "execution_count": null,
      "outputs": []
    },
    {
      "cell_type": "code",
      "metadata": {
        "id": "fqmvC1cjZNVR"
      },
      "source": [
        "# define a custom callback for ROC-AUC\n",
        "from tensorflow.keras.callbacks import Callback\n",
        "from sklearn.metrics import roc_auc_score\n",
        "class RocAucEvaluation(Callback):\n",
        "    def __init__(self, validation_data=(), interval=1):\n",
        "        super(Callback, self).__init__()\n",
        "\n",
        "        self.interval = interval\n",
        "        self.X_val, self.y_val = validation_data\n",
        "\n",
        "    def on_epoch_end(self, epoch, logs={}):\n",
        "        if epoch % self.interval == 0:\n",
        "            y_pred = self.model.predict(self.X_val, verbose=0)\n",
        "            score = roc_auc_score(self.y_val, y_pred)\n",
        "            print(\"\\n ROC-AUC - epoch: %d - score: %.6f \\n\" % (epoch+1, score))\n",
        "RocAuc = RocAucEvaluation(validation_data=(x_test, y_test), interval=1)"
      ],
      "execution_count": null,
      "outputs": []
    },
    {
      "cell_type": "code",
      "metadata": {
        "colab": {
          "base_uri": "https://localhost:8080/"
        },
        "id": "Yt49eXK4ZlqB",
        "outputId": "66f8c8c6-c5f9-4cf7-b846-d346963aa410"
      },
      "source": [
        "# train\n",
        "learner.autofit(0.001, 3, callbacks=[RocAuc])"
      ],
      "execution_count": null,
      "outputs": [
        {
          "name": "stdout",
          "output_type": "stream",
          "text": [
            "\n",
            "\n",
            "begin training using triangular learning rate policy with max lr of 0.001...\n",
            "Epoch 1/3\n",
            "4488/4488 [==============================] - 878s 195ms/step - loss: 0.0696 - accuracy: 0.9495 - val_loss: 0.0440 - val_accuracy: 0.9937\n",
            "\n",
            " ROC-AUC - epoch: 1 - score: 0.980043 \n",
            "\n",
            "Epoch 2/3\n",
            "4488/4488 [==============================] - 869s 194ms/step - loss: 0.0404 - accuracy: 0.9802 - val_loss: 0.0418 - val_accuracy: 0.9900\n",
            "\n",
            " ROC-AUC - epoch: 2 - score: 0.985360 \n",
            "\n",
            "Epoch 3/3\n",
            "4488/4488 [==============================] - 877s 195ms/step - loss: 0.0347 - accuracy: 0.9461 - val_loss: 0.0423 - val_accuracy: 0.9599\n",
            "\n",
            " ROC-AUC - epoch: 3 - score: 0.986196 \n",
            "\n"
          ]
        },
        {
          "data": {
            "text/plain": [
              "<keras.callbacks.History at 0x7f2b492a5350>"
            ]
          },
          "execution_count": 20,
          "metadata": {},
          "output_type": "execute_result"
        }
      ]
    },
    {
      "cell_type": "code",
      "metadata": {
        "colab": {
          "base_uri": "https://localhost:8080/"
        },
        "id": "I1j-am9XZlzt",
        "outputId": "1999d4f5-1309-4f3c-c0e0-72f7301e792d"
      },
      "source": [
        "from sklearn.metrics import roc_auc_score\n",
        "y_pred = learner.model.predict(x_test, verbose=0)\n",
        "score = roc_auc_score(y_test, y_pred)\n",
        "print(\"\\n ROC-AUC score: %.6f \\n\" % (score))"
      ],
      "execution_count": null,
      "outputs": [
        {
          "name": "stdout",
          "output_type": "stream",
          "text": [
            "\n",
            " ROC-AUC score: 0.986196 \n",
            "\n"
          ]
        }
      ]
    },
    {
      "cell_type": "code",
      "metadata": {
        "colab": {
          "base_uri": "https://localhost:8080/"
        },
        "id": "cE0qZ8F-bLAT",
        "outputId": "19e8c3fe-18b9-4734-d8c6-777a1e3976fd"
      },
      "source": [
        "y_pred"
      ],
      "execution_count": null,
      "outputs": [
        {
          "data": {
            "text/plain": [
              "array([[3.9053557e-05, 4.6440291e-06, 2.3921595e-05, 5.6555978e-06,\n",
              "        2.3364890e-05, 4.8844167e-06],\n",
              "       [5.0792098e-04, 2.7477401e-05, 2.0000339e-04, 3.5041889e-05,\n",
              "        1.2761354e-04, 2.1319449e-05],\n",
              "       [1.4436245e-04, 5.3383828e-06, 2.9649695e-05, 1.6595641e-05,\n",
              "        3.5240351e-05, 5.6212673e-05],\n",
              "       ...,\n",
              "       [9.5338035e-01, 3.1930745e-02, 6.1430377e-01, 1.0081589e-02,\n",
              "        5.9612310e-01, 8.1845939e-02],\n",
              "       [9.2756999e-01, 6.1790943e-03, 6.0969949e-02, 3.1816661e-03,\n",
              "        5.3731787e-01, 4.1678947e-01],\n",
              "       [7.2356728e-05, 2.7535307e-06, 2.9576069e-05, 9.3311401e-06,\n",
              "        1.2698837e-05, 4.7416984e-06]], dtype=float32)"
            ]
          },
          "execution_count": 22,
          "metadata": {},
          "output_type": "execute_result"
        }
      ]
    },
    {
      "cell_type": "code",
      "metadata": {
        "id": "99SKOoIiZl3l"
      },
      "source": [
        "predictor = ktrain.get_predictor(learner.model, preproc)"
      ],
      "execution_count": null,
      "outputs": []
    },
    {
      "cell_type": "code",
      "metadata": {
        "id": "yVRYSvTxZl7K"
      },
      "source": [
        "import pandas as pd\n",
        "\n",
        "test = pd.read_csv('/content/drive/MyDrive/toxic_test.csv',index_col=0)\n",
        "\n",
        "# TC_TEST_DATA_PATH = '/content/tc_test.csv'\n",
        "# tc_test = text.texts_from_csv(TC_TEST_DATA_PATH, 'comment_text', label_columns = [],#\"toxic\", \"severe_toxic\", \"obscene\", \"threat\", \"insult\", \"identity_hate\"],\n",
        "#                       val_filepath=None, # if None, 10% of data will be used for validation\n",
        "#                       max_features=NUM_WORDS, maxlen=MAXLEN, ngram_range=1)"
      ],
      "execution_count": null,
      "outputs": []
    },
    {
      "cell_type": "code",
      "metadata": {
        "colab": {
          "base_uri": "https://localhost:8080/",
          "height": 234
        },
        "id": "6Qoy1vfctKM-",
        "outputId": "77fa9676-461d-4056-93bb-7ce997d45c95"
      },
      "source": [
        "#test = pd.read_csv('tc_test.csv',index_col=0)\n",
        "test.head()"
      ],
      "execution_count": null,
      "outputs": [
        {
          "data": {
            "text/html": [
              "<div>\n",
              "<style scoped>\n",
              "    .dataframe tbody tr th:only-of-type {\n",
              "        vertical-align: middle;\n",
              "    }\n",
              "\n",
              "    .dataframe tbody tr th {\n",
              "        vertical-align: top;\n",
              "    }\n",
              "\n",
              "    .dataframe thead th {\n",
              "        text-align: right;\n",
              "    }\n",
              "</style>\n",
              "<table border=\"1\" class=\"dataframe\">\n",
              "  <thead>\n",
              "    <tr style=\"text-align: right;\">\n",
              "      <th></th>\n",
              "      <th>comment_text</th>\n",
              "    </tr>\n",
              "    <tr>\n",
              "      <th>id</th>\n",
              "      <th></th>\n",
              "    </tr>\n",
              "  </thead>\n",
              "  <tbody>\n",
              "    <tr>\n",
              "      <th>00001cee341fdb12</th>\n",
              "      <td>Yo bitch Ja Rule is more succesful then you'll...</td>\n",
              "    </tr>\n",
              "    <tr>\n",
              "      <th>0000247867823ef7</th>\n",
              "      <td>== From RfC == \\n\\n The title is fine as it is...</td>\n",
              "    </tr>\n",
              "    <tr>\n",
              "      <th>00013b17ad220c46</th>\n",
              "      <td>\" \\n\\n == Sources == \\n\\n * Zawe Ashton on Lap...</td>\n",
              "    </tr>\n",
              "    <tr>\n",
              "      <th>00017563c3f7919a</th>\n",
              "      <td>:If you have a look back at the source, the in...</td>\n",
              "    </tr>\n",
              "    <tr>\n",
              "      <th>00017695ad8997eb</th>\n",
              "      <td>I don't anonymously edit articles at all.</td>\n",
              "    </tr>\n",
              "  </tbody>\n",
              "</table>\n",
              "</div>"
            ],
            "text/plain": [
              "                                                       comment_text\n",
              "id                                                                 \n",
              "00001cee341fdb12  Yo bitch Ja Rule is more succesful then you'll...\n",
              "0000247867823ef7  == From RfC == \\n\\n The title is fine as it is...\n",
              "00013b17ad220c46  \" \\n\\n == Sources == \\n\\n * Zawe Ashton on Lap...\n",
              "00017563c3f7919a  :If you have a look back at the source, the in...\n",
              "00017695ad8997eb          I don't anonymously edit articles at all."
            ]
          },
          "execution_count": 34,
          "metadata": {},
          "output_type": "execute_result"
        }
      ]
    },
    {
      "cell_type": "code",
      "metadata": {
        "id": "tsS2vXUBtXbt"
      },
      "source": [
        "test['toxic'] = '0'\n",
        "test['severe_toxic'] = '0'\n",
        "test['obscene'] = '0'\n",
        "test['threat'] = '0'\n",
        "test['insult'] = '0'\n",
        "test['identity_hate'] = '0'"
      ],
      "execution_count": null,
      "outputs": []
    },
    {
      "cell_type": "code",
      "metadata": {
        "id": "ImMQz8xttXYs"
      },
      "source": [
        "comments_test = test['comment_text'].values\n",
        "detection_classes = ['toxic', 'severe_toxic', 'obscene', 'threat',\n",
        "       'insult', 'identity_hate']\n",
        "target_classes_test = test[detection_classes].values"
      ],
      "execution_count": null,
      "outputs": []
    },
    {
      "cell_type": "code",
      "metadata": {
        "colab": {
          "base_uri": "https://localhost:8080/"
        },
        "id": "bFw2gmGvtXVV",
        "outputId": "6e334ecd-53e1-4122-d4b5-d16ba08dae9d"
      },
      "source": [
        "# Max and Min Length\n",
        "print(f'Maximum length of the comments {max(len(s) for s in comments_test)}')\n",
        "print(f'Minimum length of the comments {min(len(s) for s in comments_test)}')\n",
        "\n",
        "# Median Length\n",
        "s = sorted(len(s) for s in comments_test)\n",
        "print(f'Median length of the comments {s[len(s) // 2]}')"
      ],
      "execution_count": null,
      "outputs": [
        {
          "name": "stdout",
          "output_type": "stream",
          "text": [
            "Maximum length of the comments 5000\n",
            "Minimum length of the comments 1\n",
            "Median length of the comments 169\n"
          ]
        }
      ]
    },
    {
      "cell_type": "code",
      "metadata": {
        "id": "wcgbZXUUtjGf"
      },
      "source": [
        "# from keras.preprocessing.text import Tokenizer\n",
        "\n",
        "# tokenizer_test = Tokenizer(num_words=20000)\n",
        "# tokenizer_test.fit_on_texts(comments_test)\n",
        "# sequences_test = tokenizer.texts_to_sequences(comments_test)"
      ],
      "execution_count": null,
      "outputs": []
    },
    {
      "cell_type": "code",
      "metadata": {
        "colab": {
          "background_save": true
        },
        "id": "PS31SQlstjDq"
      },
      "source": [
        "# word_to_index_test = tokenizer_test.word_index\n",
        "# print('Found %s unique tokens.' % len(word_to_index_test))"
      ],
      "execution_count": null,
      "outputs": []
    },
    {
      "cell_type": "code",
      "metadata": {
        "colab": {
          "background_save": true
        },
        "id": "NxQ5lXQ5ti_b"
      },
      "source": [
        "# from keras.preprocessing.sequence import pad_sequences\n",
        "# data_test = pad_sequences(sequences_test, maxlen=100)\n",
        "# print('Shape of data tensor:', data_test.shape)"
      ],
      "execution_count": null,
      "outputs": []
    },
    {
      "cell_type": "code",
      "metadata": {
        "id": "WvbYJyyztz1e"
      },
      "source": [
        "#r = model.predict(data_test)\n",
        "#predictor.predict(df.data.iloc[0:NumRecs].tolist())\n",
        "#r = predictor.predict(test.comment_text)\n",
        "\n",
        "r = predictor.predict(test.comment_text.tolist())"
      ],
      "execution_count": null,
      "outputs": []
    },
    {
      "cell_type": "code",
      "metadata": {
        "id": "2D-Gkabx0t63"
      },
      "source": [
        "type(r)"
      ],
      "execution_count": null,
      "outputs": []
    },
    {
      "cell_type": "code",
      "metadata": {
        "id": "plwMvAsh0x8m"
      },
      "source": [
        "r[0]"
      ],
      "execution_count": null,
      "outputs": []
    },
    {
      "cell_type": "code",
      "metadata": {
        "id": "Ed_v5sFb1itI"
      },
      "source": [
        "import numpy as np\n",
        "y=np.array(r)\n",
        "y"
      ],
      "execution_count": null,
      "outputs": []
    },
    {
      "cell_type": "code",
      "metadata": {
        "id": "mZPZgMGd38xB"
      },
      "source": [
        "yt = y.T\n",
        "#yt[1]\n",
        "rz = yt[1]"
      ],
      "execution_count": null,
      "outputs": []
    },
    {
      "cell_type": "code",
      "metadata": {
        "id": "paGzWhbkuCY6"
      },
      "source": [
        "dataset1 = pd.DataFrame({'toxic': rz[0, :], 'severe_toxic': rz[1, :], 'obscene': rz[2, :], 'threat': rz[3, :], 'insult': rz[4, :], 'identity_hate': rz[5, :]})"
      ],
      "execution_count": null,
      "outputs": []
    },
    {
      "cell_type": "code",
      "metadata": {
        "id": "3cuiZRDm2C6S"
      },
      "source": [
        "#dataset = pd.DataFrame(r)\n"
      ],
      "execution_count": null,
      "outputs": []
    },
    {
      "cell_type": "code",
      "metadata": {
        "id": "XiAiw4ir2aQ6"
      },
      "source": [
        "dataset1"
      ],
      "execution_count": null,
      "outputs": []
    },
    {
      "cell_type": "code",
      "metadata": {
        "id": "Qug-1w9iuEj5"
      },
      "source": [
        "dataset1['id'] = test.index\n",
        "dataset1"
      ],
      "execution_count": null,
      "outputs": []
    },
    {
      "cell_type": "code",
      "metadata": {
        "id": "eXFBbRDguJFW"
      },
      "source": [
        "datasettt = dataset1[['id', 'toxic', 'severe_toxic', 'obscene', 'threat', 'insult', 'identity_hate']]\n"
      ],
      "execution_count": null,
      "outputs": []
    },
    {
      "cell_type": "code",
      "metadata": {
        "id": "DlMr-laTuLkg"
      },
      "source": [
        "datasettt\n"
      ],
      "execution_count": null,
      "outputs": []
    },
    {
      "cell_type": "code",
      "metadata": {
        "id": "192xaeqVuNuA"
      },
      "source": [
        "datasettt.to_csv(r'/content/drive/MyDrive/dataframe2.csv', index = False)\n"
      ],
      "execution_count": null,
      "outputs": []
    },
    {
      "cell_type": "code",
      "metadata": {
        "id": "VxWhpuMHZmCJ"
      },
      "source": [
        "# NumRecs = len(tc_test)\n",
        "\n",
        "# target = df.target.iloc[0:NumRecs]\n",
        "# predicted = predictor.predict(df.data.iloc[0:NumRecs].tolist())\n",
        "# data = df.data.iloc[0:NumRecs]\n",
        "\n",
        "# results = pd.DataFrame(list(zip(target, predicted, data)), \n",
        "#                columns =['target', 'predicted', 'data']) "
      ],
      "execution_count": null,
      "outputs": []
    },
    {
      "cell_type": "code",
      "metadata": {
        "id": "PghZ8AQiRg5w"
      },
      "source": [
        "df = pd.read_csv('/content/drive/MyDrive/toxic_train.csv')"
      ],
      "execution_count": null,
      "outputs": []
    },
    {
      "cell_type": "code",
      "metadata": {
        "colab": {
          "base_uri": "https://localhost:8080/",
          "height": 585
        },
        "id": "11cYXgJXFfbx",
        "outputId": "001f002b-bd9e-4741-d63c-3eba92ebd18e"
      },
      "source": [
        "df"
      ],
      "execution_count": null,
      "outputs": [
        {
          "data": {
            "text/html": [
              "<div>\n",
              "<style scoped>\n",
              "    .dataframe tbody tr th:only-of-type {\n",
              "        vertical-align: middle;\n",
              "    }\n",
              "\n",
              "    .dataframe tbody tr th {\n",
              "        vertical-align: top;\n",
              "    }\n",
              "\n",
              "    .dataframe thead th {\n",
              "        text-align: right;\n",
              "    }\n",
              "</style>\n",
              "<table border=\"1\" class=\"dataframe\">\n",
              "  <thead>\n",
              "    <tr style=\"text-align: right;\">\n",
              "      <th></th>\n",
              "      <th>id</th>\n",
              "      <th>comment_text</th>\n",
              "      <th>toxic</th>\n",
              "      <th>severe_toxic</th>\n",
              "      <th>obscene</th>\n",
              "      <th>threat</th>\n",
              "      <th>insult</th>\n",
              "      <th>identity_hate</th>\n",
              "    </tr>\n",
              "  </thead>\n",
              "  <tbody>\n",
              "    <tr>\n",
              "      <th>0</th>\n",
              "      <td>0000997932d777bf</td>\n",
              "      <td>Explanation\\nWhy the edits made under my usern...</td>\n",
              "      <td>0</td>\n",
              "      <td>0</td>\n",
              "      <td>0</td>\n",
              "      <td>0</td>\n",
              "      <td>0</td>\n",
              "      <td>0</td>\n",
              "    </tr>\n",
              "    <tr>\n",
              "      <th>1</th>\n",
              "      <td>000103f0d9cfb60f</td>\n",
              "      <td>D'aww! He matches this background colour I'm s...</td>\n",
              "      <td>0</td>\n",
              "      <td>0</td>\n",
              "      <td>0</td>\n",
              "      <td>0</td>\n",
              "      <td>0</td>\n",
              "      <td>0</td>\n",
              "    </tr>\n",
              "    <tr>\n",
              "      <th>2</th>\n",
              "      <td>000113f07ec002fd</td>\n",
              "      <td>Hey man, I'm really not trying to edit war. It...</td>\n",
              "      <td>0</td>\n",
              "      <td>0</td>\n",
              "      <td>0</td>\n",
              "      <td>0</td>\n",
              "      <td>0</td>\n",
              "      <td>0</td>\n",
              "    </tr>\n",
              "    <tr>\n",
              "      <th>3</th>\n",
              "      <td>0001b41b1c6bb37e</td>\n",
              "      <td>\"\\nMore\\nI can't make any real suggestions on ...</td>\n",
              "      <td>0</td>\n",
              "      <td>0</td>\n",
              "      <td>0</td>\n",
              "      <td>0</td>\n",
              "      <td>0</td>\n",
              "      <td>0</td>\n",
              "    </tr>\n",
              "    <tr>\n",
              "      <th>4</th>\n",
              "      <td>0001d958c54c6e35</td>\n",
              "      <td>You, sir, are my hero. Any chance you remember...</td>\n",
              "      <td>0</td>\n",
              "      <td>0</td>\n",
              "      <td>0</td>\n",
              "      <td>0</td>\n",
              "      <td>0</td>\n",
              "      <td>0</td>\n",
              "    </tr>\n",
              "    <tr>\n",
              "      <th>...</th>\n",
              "      <td>...</td>\n",
              "      <td>...</td>\n",
              "      <td>...</td>\n",
              "      <td>...</td>\n",
              "      <td>...</td>\n",
              "      <td>...</td>\n",
              "      <td>...</td>\n",
              "      <td>...</td>\n",
              "    </tr>\n",
              "    <tr>\n",
              "      <th>159566</th>\n",
              "      <td>ffe987279560d7ff</td>\n",
              "      <td>\":::::And for the second time of asking, when ...</td>\n",
              "      <td>0</td>\n",
              "      <td>0</td>\n",
              "      <td>0</td>\n",
              "      <td>0</td>\n",
              "      <td>0</td>\n",
              "      <td>0</td>\n",
              "    </tr>\n",
              "    <tr>\n",
              "      <th>159567</th>\n",
              "      <td>ffea4adeee384e90</td>\n",
              "      <td>You should be ashamed of yourself \\n\\nThat is ...</td>\n",
              "      <td>0</td>\n",
              "      <td>0</td>\n",
              "      <td>0</td>\n",
              "      <td>0</td>\n",
              "      <td>0</td>\n",
              "      <td>0</td>\n",
              "    </tr>\n",
              "    <tr>\n",
              "      <th>159568</th>\n",
              "      <td>ffee36eab5c267c9</td>\n",
              "      <td>Spitzer \\n\\nUmm, theres no actual article for ...</td>\n",
              "      <td>0</td>\n",
              "      <td>0</td>\n",
              "      <td>0</td>\n",
              "      <td>0</td>\n",
              "      <td>0</td>\n",
              "      <td>0</td>\n",
              "    </tr>\n",
              "    <tr>\n",
              "      <th>159569</th>\n",
              "      <td>fff125370e4aaaf3</td>\n",
              "      <td>And it looks like it was actually you who put ...</td>\n",
              "      <td>0</td>\n",
              "      <td>0</td>\n",
              "      <td>0</td>\n",
              "      <td>0</td>\n",
              "      <td>0</td>\n",
              "      <td>0</td>\n",
              "    </tr>\n",
              "    <tr>\n",
              "      <th>159570</th>\n",
              "      <td>fff46fc426af1f9a</td>\n",
              "      <td>\"\\nAnd ... I really don't think you understand...</td>\n",
              "      <td>0</td>\n",
              "      <td>0</td>\n",
              "      <td>0</td>\n",
              "      <td>0</td>\n",
              "      <td>0</td>\n",
              "      <td>0</td>\n",
              "    </tr>\n",
              "  </tbody>\n",
              "</table>\n",
              "<p>159571 rows × 8 columns</p>\n",
              "</div>"
            ],
            "text/plain": [
              "                      id  ... identity_hate\n",
              "0       0000997932d777bf  ...             0\n",
              "1       000103f0d9cfb60f  ...             0\n",
              "2       000113f07ec002fd  ...             0\n",
              "3       0001b41b1c6bb37e  ...             0\n",
              "4       0001d958c54c6e35  ...             0\n",
              "...                  ...  ...           ...\n",
              "159566  ffe987279560d7ff  ...             0\n",
              "159567  ffea4adeee384e90  ...             0\n",
              "159568  ffee36eab5c267c9  ...             0\n",
              "159569  fff125370e4aaaf3  ...             0\n",
              "159570  fff46fc426af1f9a  ...             0\n",
              "\n",
              "[159571 rows x 8 columns]"
            ]
          },
          "execution_count": 40,
          "metadata": {},
          "output_type": "execute_result"
        }
      ]
    },
    {
      "cell_type": "code",
      "metadata": {
        "id": "qsqDZjY_FiE7"
      },
      "source": [
        ""
      ],
      "execution_count": null,
      "outputs": []
    }
  ]
}